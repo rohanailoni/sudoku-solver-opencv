{
 "cells": [
  {
   "cell_type": "code",
   "execution_count": 5,
   "id": "9edc5128-7c54-4764-9c2a-67048475c8fe",
   "metadata": {},
   "outputs": [],
   "source": [
    "import cv2\n",
    "import matplotlib.pyplot as plt\n",
    "import tensorflow as tf\n",
    "import os"
   ]
  },
  {
   "cell_type": "code",
   "execution_count": 21,
   "id": "38051826-b973-4d2e-9058-4cddc45ef976",
   "metadata": {},
   "outputs": [
    {
     "name": "stdout",
     "output_type": "stream",
     "text": [
      "Sample002\n",
      "Sample005\n",
      "Sample004\n",
      "Sample003\n",
      "Sample010\n",
      "Sample008\n",
      "Sample006\n",
      "Sample001\n",
      "Sample007\n",
      "Sample009\n"
     ]
    }
   ],
   "source": [
    "for i in os.listdir(\"./Fnt\"):\n",
    "    if i!=\".DS_Store\":\n",
    "        print(i)"
   ]
  },
  {
   "cell_type": "code",
   "execution_count": 22,
   "id": "e3e7a6f6-a257-4211-8cb8-fab53e4d45c1",
   "metadata": {},
   "outputs": [],
   "source": [
    "from tensorflow.keras.preprocessing.image import ImageDataGenerator\n",
    "training_set=ImageDataGenerator(rescale=1./255,shear_range=0.2,zoom_range=0.2,horizontal_flip=True,vertical_flip=True,)"
   ]
  },
  {
   "cell_type": "code",
   "execution_count": 23,
   "id": "3eb1cc4d-0935-46d7-8479-0498d25ea1b5",
   "metadata": {},
   "outputs": [
    {
     "name": "stdout",
     "output_type": "stream",
     "text": [
      "Found 10160 images belonging to 10 classes.\n"
     ]
    }
   ],
   "source": [
    "training_data=training_set.flow_from_directory(r'./Fnt',\n",
    "                                              target_size=(224,224),\n",
    "                                              class_mode='categorical',\n",
    "                                              batch_size=16)"
   ]
  },
  {
   "cell_type": "code",
   "execution_count": 24,
   "id": "67b68ae3-aea5-4f6b-8763-35343e10bab7",
   "metadata": {},
   "outputs": [
    {
     "name": "stdout",
     "output_type": "stream",
     "text": [
      "{'Sample001': 0, 'Sample002': 1, 'Sample003': 2, 'Sample004': 3, 'Sample005': 4, 'Sample006': 5, 'Sample007': 6, 'Sample008': 7, 'Sample009': 8, 'Sample010': 9}\n"
     ]
    }
   ],
   "source": [
    "print(training_data.class_indices)"
   ]
  },
  {
   "cell_type": "code",
   "execution_count": 25,
   "id": "b0a397bd-6203-4949-abed-091e393e1c0a",
   "metadata": {},
   "outputs": [],
   "source": [
    "from tensorflow.keras import Sequential\n",
    "from tensorflow.keras.layers import Conv2D,MaxPooling2D,Dropout,Dense,Flatten\n",
    "model = Sequential()\n",
    "model.add(Conv2D(32, kernel_size=(3, 3),activation='relu',input_shape=(224,224,1)))\n",
    "model.add(Conv2D(64, (3, 3), activation='relu'))\n",
    "model.add(MaxPooling2D(pool_size=(2, 2)))\n",
    "model.add(Dropout(0.25))\n",
    "model.add(Flatten())\n",
    "model.add(Dense(128, activation='relu'))\n",
    "model.add(Dropout(0.5))\n",
    "model.add(Dense(10, activation='softmax'))\n",
    "\n",
    "model.compile(loss=tf.keras.losses.categorical_crossentropy,\n",
    "              optimizer=tf.keras.optimizers.Adam(),\n",
    "              metrics=['accuracy'])\n",
    "\n"
   ]
  },
  {
   "cell_type": "code",
   "execution_count": null,
   "id": "21a8bbf4-ae7f-477b-8b0f-8e333fff220c",
   "metadata": {},
   "outputs": [],
   "source": [
    "model.fit(x=training_data,epoc)"
   ]
  }
 ],
 "metadata": {
  "kernelspec": {
   "display_name": "Python 3 (ipykernel)",
   "language": "python",
   "name": "python3"
  },
  "language_info": {
   "codemirror_mode": {
    "name": "ipython",
    "version": 3
   },
   "file_extension": ".py",
   "mimetype": "text/x-python",
   "name": "python",
   "nbconvert_exporter": "python",
   "pygments_lexer": "ipython3",
   "version": "3.9.6"
  }
 },
 "nbformat": 4,
 "nbformat_minor": 5
}
